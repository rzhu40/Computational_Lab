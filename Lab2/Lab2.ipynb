{
 "cells": [
  {
   "cell_type": "markdown",
   "metadata": {},
   "source": [
    "## Q1"
   ]
  },
  {
   "cell_type": "code",
   "execution_count": 2,
   "metadata": {},
   "outputs": [
    {
     "name": "stdout",
     "output_type": "stream",
     "text": [
      "    20\n",
      "\n",
      "    21\n",
      "\n",
      "    22\n",
      "\n",
      "    23\n",
      "\n",
      "    24\n",
      "\n",
      "    25\n",
      "\n",
      "    26\n",
      "\n",
      "    27\n",
      "\n",
      "    28\n",
      "\n",
      "    29\n",
      "\n",
      "    30\n",
      "\n"
     ]
    }
   ],
   "source": [
    "for i = 20:30\n",
    "    disp(i)\n",
    "end"
   ]
  },
  {
   "cell_type": "markdown",
   "metadata": {},
   "source": [
    "## Q2"
   ]
  },
  {
   "cell_type": "code",
   "execution_count": 2,
   "metadata": {},
   "outputs": [
    {
     "name": "stdout",
     "output_type": "stream",
     "text": [
      "      501501\n",
      "\n",
      "      501501\n",
      "\n"
     ]
    }
   ],
   "source": [
    "s1 = sum(1:1001);\n",
    "s2 = 0;\n",
    "for i = 1:1001\n",
    "    s2 = s2 + i;\n",
    "end\n",
    "disp(s1)\n",
    "disp(s2)"
   ]
  },
  {
   "cell_type": "markdown",
   "metadata": {},
   "source": [
    "## Q3"
   ]
  },
  {
   "cell_type": "code",
   "execution_count": 3,
   "metadata": {},
   "outputs": [
    {
     "name": "stdout",
     "output_type": "stream",
     "text": [
      "Created file '/Users/rzhu/Documents/teaching/computatinal/Lab2/divide100by.m'.\n"
     ]
    }
   ],
   "source": [
    "%%file divide100by.m\n",
    "\n",
    "function y = divide100by(x)\n",
    "    y = 100./x;\n",
    "end"
   ]
  },
  {
   "cell_type": "code",
   "execution_count": 4,
   "metadata": {},
   "outputs": [
    {
     "name": "stdout",
     "output_type": "stream",
     "text": [
      "\n",
      "ans =\n",
      "\n",
      "    5.8824\n",
      "\n"
     ]
    }
   ],
   "source": [
    "divide100by(17)"
   ]
  },
  {
   "cell_type": "code",
   "execution_count": 6,
   "metadata": {},
   "outputs": [
    {
     "name": "stdout",
     "output_type": "stream",
     "text": [
      "\n",
      "ans =\n",
      "\n",
      "    50    20    10\n",
      "\n"
     ]
    }
   ],
   "source": [
    "x = [2 5 10];\n",
    "divide100by(x)"
   ]
  },
  {
   "cell_type": "markdown",
   "metadata": {},
   "source": [
    "## Q4"
   ]
  },
  {
   "cell_type": "code",
   "execution_count": 8,
   "metadata": {},
   "outputs": [
    {
     "name": "stdout",
     "output_type": "stream",
     "text": [
      "Created file '/Users/rzhu/Documents/teaching/computatinal/Lab2/radial.m'.\n"
     ]
    }
   ],
   "source": [
    "%%file radial.m\n",
    "function dist = radial(x, y)\n",
    "    dist = sqrt(x.^2 + y.^2);\n",
    "end"
   ]
  },
  {
   "cell_type": "code",
   "execution_count": 9,
   "metadata": {},
   "outputs": [
    {
     "name": "stdout",
     "output_type": "stream",
     "text": [
      "\n",
      "ans =\n",
      "\n",
      "     7\n",
      "\n",
      "\n",
      "ans =\n",
      "\n",
      "    6.3135\n",
      "\n",
      "\n",
      "ans =\n",
      "\n",
      "    97\n",
      "\n"
     ]
    }
   ],
   "source": [
    "radial(0, 7)\n",
    "radial(5.5, 3.1)\n",
    "radial(-65, 72)"
   ]
  },
  {
   "cell_type": "markdown",
   "metadata": {},
   "source": [
    "## Q5"
   ]
  },
  {
   "cell_type": "code",
   "execution_count": 10,
   "metadata": {},
   "outputs": [
    {
     "name": "stdout",
     "output_type": "stream",
     "text": [
      "Created file '/Users/rzhu/Documents/teaching/computatinal/Lab2/esum.m'.\n"
     ]
    }
   ],
   "source": [
    "%%file esum.m\n",
    "function s = esum(n)\n",
    "    x = 0:n;\n",
    "    s = sum(exp(-x));\n",
    "end"
   ]
  },
  {
   "cell_type": "code",
   "execution_count": 11,
   "metadata": {},
   "outputs": [
    {
     "name": "stdout",
     "output_type": "stream",
     "text": [
      "\n",
      "ans =\n",
      "\n",
      "    1.3679\n",
      "\n"
     ]
    }
   ],
   "source": [
    "esum(1)"
   ]
  },
  {
   "cell_type": "markdown",
   "metadata": {},
   "source": [
    "## Q6"
   ]
  },
  {
   "cell_type": "code",
   "execution_count": 26,
   "metadata": {},
   "outputs": [
    {
     "name": "stdout",
     "output_type": "stream",
     "text": [
      "n = 12 or 13\n"
     ]
    }
   ],
   "source": [
    "format long\n",
    "for x = 1:20\n",
    "    s = esum(x);\n",
    "    sprintf('%d |%.6f', [x s]);\n",
    "end\n",
    "disp('n = 12 or 13')"
   ]
  },
  {
   "cell_type": "markdown",
   "metadata": {},
   "source": [
    "## Q7"
   ]
  },
  {
   "cell_type": "code",
   "execution_count": 27,
   "metadata": {},
   "outputs": [
    {
     "name": "stdout",
     "output_type": "stream",
     "text": [
      "Created file '/Users/rzhu/Documents/teaching/computatinal/Lab2/even.m'.\n"
     ]
    }
   ],
   "source": [
    "%%file even.m\n",
    "function output = even(x)\n",
    "    if(mod(x, 2) == 0)\n",
    "        output = 1;\n",
    "    else\n",
    "        output = 0;\n",
    "    end\n",
    "end"
   ]
  },
  {
   "cell_type": "markdown",
   "metadata": {},
   "source": [
    "## Q8"
   ]
  },
  {
   "cell_type": "code",
   "execution_count": 28,
   "metadata": {},
   "outputs": [
    {
     "name": "stdout",
     "output_type": "stream",
     "text": [
      "Created file '/Users/rzhu/Documents/teaching/computatinal/Lab2/triangle.m'.\n"
     ]
    }
   ],
   "source": [
    "%%file triangle.m\n",
    "function type = triangle(side1, side2, side3) \n",
    "    v=unique([side1, side2, side3]); \n",
    "    if(length(v) == 3)\n",
    "        type = 'scalene'; \n",
    "    elseif(length(v)==2)\n",
    "        type = 'isosceles'; \n",
    "    else\n",
    "        type = 'equilateral'; \n",
    "    end\n",
    "end"
   ]
  },
  {
   "cell_type": "markdown",
   "metadata": {},
   "source": [
    "## Q9"
   ]
  },
  {
   "cell_type": "markdown",
   "metadata": {},
   "source": [
    "### a)"
   ]
  },
  {
   "cell_type": "code",
   "execution_count": 32,
   "metadata": {},
   "outputs": [
    {
     "name": "stdout",
     "output_type": "stream",
     "text": [
      "\n",
      "vx =\n",
      "\n",
      "   7.071067811865476\n",
      "\n",
      "\n",
      "vy =\n",
      "\n",
      "   7.071067811865476\n",
      "\n"
     ]
    }
   ],
   "source": [
    "v = 10;\n",
    "theta = 45;\n",
    "vx = cosd(theta)*v\n",
    "vy = sind(theta)*v"
   ]
  },
  {
   "cell_type": "markdown",
   "metadata": {},
   "source": [
    "### b)"
   ]
  },
  {
   "cell_type": "code",
   "execution_count": 34,
   "metadata": {},
   "outputs": [
    {
     "name": "stdout",
     "output_type": "stream",
     "text": [
      "\n",
      "xt =\n",
      "\n",
      "   7.071067811865476\n",
      "\n",
      "\n",
      "yt =\n",
      "\n",
      "   2.171067811865475\n",
      "\n"
     ]
    }
   ],
   "source": [
    "t = 1;\n",
    "a = -9.8;\n",
    "xt = vx*t\n",
    "yt = vy*t + 0.5*a*t^2"
   ]
  },
  {
   "cell_type": "markdown",
   "metadata": {},
   "source": [
    "### c)"
   ]
  },
  {
   "cell_type": "code",
   "execution_count": 47,
   "metadata": {},
   "outputs": [],
   "source": [
    "clear projectile"
   ]
  },
  {
   "cell_type": "code",
   "execution_count": 49,
   "metadata": {},
   "outputs": [
    {
     "name": "stdout",
     "output_type": "stream",
     "text": [
      "projectile is a function.\n",
      "    [xt, yt] = projectile(v, theta, t)\n",
      "\n"
     ]
    }
   ],
   "source": [
    "help projectile"
   ]
  },
  {
   "cell_type": "code",
   "execution_count": 45,
   "metadata": {},
   "outputs": [
    {
     "name": "stdout",
     "output_type": "stream",
     "text": [
      "Created file '/Users/rzhu/Documents/teaching/computatinal/Lab2/projectile.m'.\n"
     ]
    }
   ],
   "source": [
    "%%file projectile.m\n",
    "function [xt, yt] = projectile(v, theta, t)\n",
    "    a = -9.8;\n",
    "    vx = cosd(theta)*v;\n",
    "    vy = sind(theta)*v;\n",
    "    xt = vx*t;\n",
    "    yt = vy*t + 0.5*a*t^2;\n",
    "end"
   ]
  },
  {
   "cell_type": "code",
   "execution_count": 51,
   "metadata": {},
   "outputs": [
    {
     "name": "stdout",
     "output_type": "stream",
     "text": [
      "\n",
      "xt =\n",
      "\n",
      "  13.961925149826810\n",
      "\n",
      "\n",
      "yt =\n",
      "\n",
      "     4.862781561251130e+02\n",
      "\n"
     ]
    }
   ],
   "source": [
    "[xt, yt] = projectile(100, 89, 8)"
   ]
  },
  {
   "cell_type": "markdown",
   "metadata": {},
   "source": [
    "### d)"
   ]
  },
  {
   "cell_type": "code",
   "execution_count": 5,
   "metadata": {},
   "outputs": [],
   "source": [
    "%plot inline"
   ]
  },
  {
   "cell_type": "code",
   "execution_count": 6,
   "metadata": {},
   "outputs": [
    {
     "data": {
      "image/png": "[encoded data removed]",
      "text/plain": [
       "<IPython.core.display.Image object>"
      ]
     },
     "metadata": {},
     "output_type": "display_data"
    }
   ],
   "source": [
    "for t = 0:0.1:2\n",
    "    [xt, yt] = projectile(10, 45, t);\n",
    "    plot(xt, yt, 'bo');\n",
    "    xlim([0, 15])\n",
    "    ylim([0, 3])\n",
    "    hold on;\n",
    "    pause(0.1)\n",
    "end"
   ]
  },
  {
   "cell_type": "code",
   "execution_count": null,
   "metadata": {},
   "outputs": [],
   "source": []
  }
 ],
 "metadata": {
  "kernelspec": {
   "display_name": "Matlab",
   "language": "matlab",
   "name": "matlab"
  },
  "language_info": {
   "codemirror_mode": "octave",
   "file_extension": ".m",
   "help_links": [
    {
     "text": "MetaKernel Magics",
     "url": "https://metakernel.readthedocs.io/en/latest/source/README.html"
    }
   ],
   "mimetype": "text/x-octave",
   "name": "matlab",
   "version": "0.16.7"
  }
 },
 "nbformat": 4,
 "nbformat_minor": 2
}
