{
 "cells": [
  {
   "cell_type": "code",
   "execution_count": 16,
   "metadata": {},
   "outputs": [],
   "source": [
    "%plot inline"
   ]
  },
  {
   "cell_type": "markdown",
   "metadata": {},
   "source": [
    "## Q1"
   ]
  },
  {
   "cell_type": "code",
   "execution_count": 3,
   "metadata": {},
   "outputs": [
    {
     "name": "stdout",
     "output_type": "stream",
     "text": [
      "    12\n",
      "\n",
      "    24\n",
      "\n",
      "    36\n",
      "\n",
      "    48\n",
      "\n",
      "    60\n",
      "\n",
      "    72\n",
      "\n",
      "    84\n",
      "\n",
      "    96\n",
      "\n",
      "   108\n",
      "\n",
      "   120\n",
      "\n",
      "   132\n",
      "\n",
      "   144\n",
      "\n",
      "   156\n",
      "\n",
      "   168\n",
      "\n",
      "   180\n",
      "\n",
      "   192\n",
      "\n"
     ]
    }
   ],
   "source": [
    "mult = x * 12;\n",
    "while mult < 200\n",
    "    disp(mult)\n",
    "    mult = mult + 12;\n",
    "end"
   ]
  },
  {
   "cell_type": "markdown",
   "metadata": {},
   "source": [
    "## Q2"
   ]
  },
  {
   "cell_type": "code",
   "execution_count": 5,
   "metadata": {},
   "outputs": [
    {
     "name": "stdout",
     "output_type": "stream",
     "text": [
      "    12\n",
      "\n",
      "    24\n",
      "\n",
      "    36\n",
      "\n",
      "    48\n",
      "\n",
      "    60\n",
      "\n",
      "    72\n",
      "\n",
      "    84\n",
      "\n",
      "    96\n",
      "\n",
      "   108\n",
      "\n",
      "   120\n",
      "\n",
      "   132\n",
      "\n",
      "   144\n",
      "\n",
      "   156\n",
      "\n",
      "   168\n",
      "\n",
      "   180\n",
      "\n",
      "   192\n",
      "\n"
     ]
    }
   ],
   "source": [
    "for x = 1:20\n",
    "    mult = x * 12;\n",
    "    if mult >= 200\n",
    "        break; \n",
    "    end\n",
    "    disp(mult)\n",
    "end"
   ]
  },
  {
   "cell_type": "markdown",
   "metadata": {},
   "source": [
    "## Q3"
   ]
  },
  {
   "cell_type": "code",
   "execution_count": 7,
   "metadata": {},
   "outputs": [
    {
     "name": "stdout",
     "output_type": "stream",
     "text": [
      "     0     0\n",
      "\n",
      "     1     1\n",
      "\n",
      "     2     9\n",
      "\n",
      "     3    36\n",
      "\n",
      "     4   100\n",
      "\n",
      "     5   225\n",
      "\n",
      "     6   441\n",
      "\n",
      "     7   784\n",
      "\n"
     ]
    }
   ],
   "source": [
    "s = 0;\n",
    "x = 0;\n",
    "while s < 1000\n",
    "    disp([x s])\n",
    "    x = x + 1;\n",
    "    s = s + x^3;\n",
    "end"
   ]
  },
  {
   "cell_type": "markdown",
   "metadata": {},
   "source": [
    "## Q4"
   ]
  },
  {
   "cell_type": "code",
   "execution_count": 8,
   "metadata": {},
   "outputs": [
    {
     "name": "stdout",
     "output_type": "stream",
     "text": [
      "\n",
      "ans =\n",
      "\n",
      "    -2    -4    -6\n",
      "\n",
      "\n",
      "ans =\n",
      "\n",
      "    10    20    30\n",
      "\n",
      "\n",
      "ans =\n",
      "\n",
      "    10    20    30\n",
      "\n",
      "\n",
      "ans =\n",
      "\n",
      "     5\n",
      "\n"
     ]
    }
   ],
   "source": [
    "a = [1 -2 3 -4 5 -6 7 8];\n",
    "b = [-40 -30 -20 -10 0 10 20 30];\n",
    "a(a<0)\n",
    "b(b>=3)\n",
    "b(b>a)\n",
    "sum(a>0)"
   ]
  },
  {
   "cell_type": "markdown",
   "metadata": {},
   "source": [
    "## Q5"
   ]
  },
  {
   "cell_type": "code",
   "execution_count": 12,
   "metadata": {},
   "outputs": [
    {
     "name": "stdout",
     "output_type": "stream",
     "text": [
      "\n",
      "c1 =\n",
      "\n",
      "    -2    -4    -6\n",
      "\n",
      "\n",
      "c2 =\n",
      "\n",
      "    -2    -4    -6   -40   -30   -20   -10\n",
      "\n",
      "\n",
      "ans =\n",
      "\n",
      "     1\n",
      "\n",
      "\n",
      "ans =\n",
      "\n",
      "     8\n",
      "\n"
     ]
    }
   ],
   "source": [
    "a = [1 -2 3 -4 5 -6 7 8];\n",
    "b = [-40 -30 -20 -10 0 10 20 30];\n",
    "c1 = a(a<0)\n",
    "c2 = [a(a<0) b(b<0)]\n",
    "c3 = a(a>0);\n",
    "c3(1)\n",
    "c3(end)"
   ]
  },
  {
   "cell_type": "markdown",
   "metadata": {},
   "source": [
    "## Q6"
   ]
  },
  {
   "cell_type": "code",
   "execution_count": 15,
   "metadata": {},
   "outputs": [
    {
     "name": "stdout",
     "output_type": "stream",
     "text": [
      "\n",
      "s0 =\n",
      "\n",
      "    0.7071    0.7071\n",
      "\n"
     ]
    }
   ],
   "source": [
    "theta0 = 45;\n",
    "s0 = [cosd(theta0), sind(theta0)]"
   ]
  },
  {
   "cell_type": "markdown",
   "metadata": {},
   "source": [
    "## Q7"
   ]
  },
  {
   "cell_type": "code",
   "execution_count": 21,
   "metadata": {},
   "outputs": [
    {
     "data": {
      "image/png": "[encoded data removed]",
      "text/plain": [
       "<IPython.core.display.Image object>"
      ]
     },
     "metadata": {},
     "output_type": "display_data"
    }
   ],
   "source": [
    "x = 0;\n",
    "y = 0;\n",
    "r = [x, y];\n",
    "theta0 = 45;\n",
    "s0 = [cosd(theta0), sind(theta0)];\n",
    "h = 0.05;\n",
    "for i = 1:30\n",
    "    plot(r(1), r(2), 'ro');\n",
    "    hold on\n",
    "    r = r + h*s0;\n",
    "end\n",
    "xlabel('X position')\n",
    "ylabel('Y position')"
   ]
  },
  {
   "cell_type": "markdown",
   "metadata": {},
   "source": [
    "## Q8"
   ]
  },
  {
   "cell_type": "code",
   "execution_count": 34,
   "metadata": {},
   "outputs": [
    {
     "data": {
      "image/png": "[encoded data removed]",
      "text/plain": [
       "<IPython.core.display.Image object>"
      ]
     },
     "metadata": {},
     "output_type": "display_data"
    }
   ],
   "source": [
    "x = 0;\n",
    "y = 0;\n",
    "r = [x, y];\n",
    "theta0 = 45;\n",
    "s0 = [cosd(theta0), sind(theta0)];\n",
    "h = 0.05;\n",
    "flag = true;\n",
    "limit = 1;\n",
    "r = r+h*s0;\n",
    "while flag\n",
    "    plot(r(1), r(2), 'ro');\n",
    "    hold on\n",
    "    r = r + h*s0;\n",
    "    flag = (r(1) < limit) && (r(2) < limit);\n",
    "end\n",
    "axis([0, 1.1*limit, 0, 1.1*limit])\n",
    "xlabel('X position')\n",
    "ylabel('Y position')"
   ]
  },
  {
   "cell_type": "markdown",
   "metadata": {},
   "source": [
    "## Q9"
   ]
  },
  {
   "cell_type": "code",
   "execution_count": 89,
   "metadata": {},
   "outputs": [
    {
     "name": "stdout",
     "output_type": "stream",
     "text": [
      "Created file '/Users/rzhu/Documents/PhD/Computational_Lab/holdon/Lab4/refract_ray.m'.\n"
     ]
    }
   ],
   "source": [
    "%%file refract_ray.m\n",
    "function s2 = refract_ray(n1, n2, s1)\n",
    "    theta1 = asind(abs(s1(1)));\n",
    "    theta2 = asind(n1*sind(theta1)/n2);\n",
    "    if sind(theta1) <= n2/n1\n",
    "        s2 = [sind(theta2), sign(s1(2))*cosd(theta2)];\n",
    "    else\n",
    "        s2 = [s1(1), -s1(2)];\n",
    "    end\n",
    "end"
   ]
  },
  {
   "cell_type": "code",
   "execution_count": 48,
   "metadata": {},
   "outputs": [
    {
     "name": "stdout",
     "output_type": "stream",
     "text": [
      "\n",
      "ans =\n",
      "\n",
      "    0.7071    0.7071\n",
      "\n",
      "\n",
      "ans =\n",
      "\n",
      "    0.4714    0.8819\n",
      "\n"
     ]
    }
   ],
   "source": [
    "s1 = [1/sqrt(2), 1/sqrt(2)];\n",
    "refract_ray(1,1, s1)\n",
    "refract_ray(1,1.5, s1)"
   ]
  },
  {
   "cell_type": "markdown",
   "metadata": {},
   "source": [
    "## Q10"
   ]
  },
  {
   "cell_type": "code",
   "execution_count": 76,
   "metadata": {},
   "outputs": [
    {
     "data": {
      "image/png": "[encoded data removed]",
      "text/plain": [
       "<IPython.core.display.Image object>"
      ]
     },
     "metadata": {},
     "output_type": "display_data"
    }
   ],
   "source": [
    "r = [0, 0];\n",
    "theta0 = 45;\n",
    "s = [cosd(theta0), sind(theta0)];\n",
    "h = 0.05;\n",
    "flag = true;\n",
    "limit = 1;\n",
    "n1 = 1;\n",
    "n2 = 1;\n",
    "while flag\n",
    "    plot(r(1), r(2), 'ro');\n",
    "    hold on\n",
    "    s = refract_ray(n1, n2, s);\n",
    "    r = r + h*s;\n",
    "    flag = (r(1) > 0) && (r(1) < limit) && (r(2) > 0) && (r(2) < limit);\n",
    "end\n",
    "axis([0, 1.1*limit, 0, 1.1*limit])\n",
    "xlabel('X position')\n",
    "ylabel('Y position')"
   ]
  },
  {
   "cell_type": "markdown",
   "metadata": {},
   "source": [
    "## Q11"
   ]
  },
  {
   "cell_type": "code",
   "execution_count": 55,
   "metadata": {},
   "outputs": [
    {
     "name": "stdout",
     "output_type": "stream",
     "text": [
      "Created file '/Users/rzhu/Documents/PhD/Computational_Lab/holdon/Lab4/air_glass_interface.m'.\n"
     ]
    }
   ],
   "source": [
    "%%file air_glass_interface.m\n",
    "function n = air_glass_interface(r)\n",
    "    if r(2) <= 0.5\n",
    "        n = 1.5;\n",
    "    else\n",
    "        n = 1.0;\n",
    "    end\n",
    "end"
   ]
  },
  {
   "cell_type": "code",
   "execution_count": 79,
   "metadata": {},
   "outputs": [
    {
     "data": {
      "image/png": "[encoded data removed]",
      "text/plain": [
       "<IPython.core.display.Image object>"
      ]
     },
     "metadata": {},
     "output_type": "display_data"
    }
   ],
   "source": [
    "r = [0,1];\n",
    "theta0 = -45;\n",
    "s = [cosd(theta0), sind(theta0)];\n",
    "h = 0.05;\n",
    "flag = true;\n",
    "limit = 1;\n",
    "n1 = air_glass_interface(r);\n",
    "n2 = air_glass_interface(r);\n",
    "while flag\n",
    "    plot(r(1), r(2), 'ro');\n",
    "    n2 = air_glass_interface(r);\n",
    "    hold on\n",
    "    s = refract_ray(n1, n2, s);\n",
    "    r = r + h*s;\n",
    "    n1 = n2;\n",
    "    flag = (r(1) > 0) && (r(1) < limit) && (r(2) > 0) && (r(2) < limit);\n",
    "end\n",
    "plot([0 limit], [limit/2,limit/2], 'b-');\n",
    "axis([0, limit, 0,limit])\n",
    "xlabel('X position')\n",
    "ylabel('Y position')"
   ]
  },
  {
   "cell_type": "markdown",
   "metadata": {},
   "source": [
    "## Q12"
   ]
  },
  {
   "cell_type": "code",
   "execution_count": 90,
   "metadata": {},
   "outputs": [
    {
     "data": {
      "image/png": "[encoded data removed]",
      "text/plain": [
       "<IPython.core.display.Image object>"
      ]
     },
     "metadata": {},
     "output_type": "display_data"
    }
   ],
   "source": [
    "r = [0,0];\n",
    "theta0 = 45;\n",
    "s = [cosd(theta0), sind(theta0)];\n",
    "h = 0.05;\n",
    "flag = true;\n",
    "limit = 1;\n",
    "n1 = air_glass_interface(r);\n",
    "n2 = air_glass_interface(r);\n",
    "while flag\n",
    "    plot(r(1), r(2), 'ro');\n",
    "    n2 = air_glass_interface(r);\n",
    "    hold on\n",
    "    s = refract_ray(n1, n2, s);\n",
    "    r = r + h*s;\n",
    "    n1 = n2;\n",
    "    flag = (r(1) > 0) && (r(1) < limit) && (r(2) > 0) && (r(2) < limit);\n",
    "end\n",
    "plot([0 limit], [limit/2,limit/2], 'b-');\n",
    "axis([0, limit, 0,limit])\n",
    "xlabel('X position')\n",
    "ylabel('Y position')"
   ]
  },
  {
   "cell_type": "code",
   "execution_count": null,
   "metadata": {},
   "outputs": [],
   "source": []
  }
 ],
 "metadata": {
  "kernelspec": {
   "display_name": "Matlab",
   "language": "matlab",
   "name": "matlab"
  },
  "language_info": {
   "codemirror_mode": "octave",
   "file_extension": ".m",
   "help_links": [
    {
     "text": "MetaKernel Magics",
     "url": "https://metakernel.readthedocs.io/en/latest/source/README.html"
    }
   ],
   "mimetype": "text/x-octave",
   "name": "matlab",
   "version": "0.16.7"
  }
 },
 "nbformat": 4,
 "nbformat_minor": 2
}
