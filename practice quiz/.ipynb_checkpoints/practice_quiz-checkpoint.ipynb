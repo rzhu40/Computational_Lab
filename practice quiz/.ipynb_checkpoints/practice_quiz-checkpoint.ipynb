{
 "cells": [
  {
   "cell_type": "markdown",
   "metadata": {},
   "source": [
    "## Q1"
   ]
  },
  {
   "cell_type": "markdown",
   "metadata": {},
   "source": [
    "Write a short MATLAB program to solve each of the following problems, given the vectors below:\n",
    "\n",
    "```matlab\n",
    "x = [10 11 5 -3 -8 -2]; \n",
    "y = [-10 0 -2 5 8 3];\n",
    "```\n",
    "\n",
    "Your solutions should work regardless of the two vectors given. Write your code in the boxes provided.\n",
    "\n",
    "\n",
    "i) Write code to divide each element of y by the corresponding element of x. \n",
    "\n",
    "ii) Write code to print out the second last element of y.\n",
    "\n",
    "iii) Write code to square each element of vector x.\n",
    "\n",
    "iv) Write code to print out all the values of y which are larger than the corresponding value of x. For the example above your program should print out 5, 8 and 3.\n",
    "\n",
    "v) Write code to print out the values of x for which the absolute value of x is equal to the absolute value of the corresponding value of y. For the example above your program should print out 10 and -8."
   ]
  },
  {
   "cell_type": "code",
   "execution_count": 1,
   "metadata": {},
   "outputs": [],
   "source": [
    "x = [10 11 5 -3 -8 -2];\n",
    "y = [-10 0 -2 5 8 3];"
   ]
  },
  {
   "cell_type": "code",
   "execution_count": 3,
   "metadata": {},
   "outputs": [
    {
     "name": "stdout",
     "output_type": "stream",
     "text": [
      "\n",
      "ans =\n",
      "\n",
      "   -1.0000         0   -0.4000   -1.6667   -1.0000   -1.5000\n",
      "\n",
      "\n",
      "ans =\n",
      "\n",
      "     8\n",
      "\n",
      "\n",
      "ans =\n",
      "\n",
      "   100   121    25     9    64     4\n",
      "\n",
      "\n",
      "ans =\n",
      "\n",
      "     5     8     3\n",
      "\n",
      "\n",
      "ans =\n",
      "\n",
      "    10    -8\n",
      "\n"
     ]
    }
   ],
   "source": [
    "y./x\n",
    "y(end-1)\n",
    "x.^2\n",
    "y(y>x)\n",
    "x(abs(x) == abs(y))"
   ]
  },
  {
   "cell_type": "markdown",
   "metadata": {},
   "source": [
    "## Q2"
   ]
  },
  {
   "cell_type": "markdown",
   "metadata": {},
   "source": [
    "The marks of six students in a course are given by\n",
    "```matlab\n",
    "marks = [75.0 65.5 80.0 83.5 90.5 75.5];\n",
    "```\n",
    "Write a MATLAB script to calculate the average mark of students who got a distinction. A distinction is a mark greater than or equal to 75 and less than 85. Write your code and answer below.\n",
    "\n",
    "The first line of your script must be:\n",
    "\n",
    "```matlab\n",
    "marks = [75.0 65.5 80.0 83.5 90.5 75.5];\n",
    "```"
   ]
  },
  {
   "cell_type": "code",
   "execution_count": 21,
   "metadata": {},
   "outputs": [
    {
     "name": "stdout",
     "output_type": "stream",
     "text": [
      "\n",
      "ans =\n",
      "\n",
      "   78.5000\n",
      "\n"
     ]
    }
   ],
   "source": [
    "marks = [75.0 65.5 80.0 83.5 90.5 75.5];\n",
    "\n",
    "mean(marks((marks>=75)&(marks<85)))"
   ]
  },
  {
   "cell_type": "markdown",
   "metadata": {},
   "source": [
    "## Q3"
   ]
  },
  {
   "cell_type": "markdown",
   "metadata": {},
   "source": [
    "A robot is bouncing to its destination which is 1 km away. The first step it takes is 1 m long, and each subsequent step is double the size of the previous one.\n",
    "\n",
    "Write a MATLAB script to calculate how many steps the robot requires to reach its target. By how much does it overreach its destination. Write your code and answers below.\n"
   ]
  },
  {
   "cell_type": "code",
   "execution_count": 28,
   "metadata": {},
   "outputs": [
    {
     "name": "stdout",
     "output_type": "stream",
     "text": [
      "          10        1023\n",
      "\n"
     ]
    }
   ],
   "source": [
    "steps = 1;\n",
    "dist = 1;\n",
    "step_size = 1;\n",
    "while dist < 1000\n",
    "    step_size = 2*step_size;\n",
    "    dist = dist + step_size;\n",
    "    steps = steps + 1;\n",
    "end\n",
    "disp([steps, dist])"
   ]
  },
  {
   "cell_type": "markdown",
   "metadata": {},
   "source": [
    "## Q4"
   ]
  },
  {
   "cell_type": "markdown",
   "metadata": {},
   "source": [
    "The value of π can be estimated using the series:\n",
    "\n",
    "$$\\pi_{approx}=4\\:\\sum^n_{k=1}\\:\\frac{\\left(-1\\right)^{k+1}}{2k-1}$$\n",
    "\n",
    "The more terms that are used, the more accurate the estimate. Write a MATLAB function pin = calc_pi(n) that calculates π using n terms of this series. Your function\n",
    "should work like this: \n",
    "```matlab\n",
    ">> pin = calc_pi(1)\n",
    "pin = 4\n",
    ">> pin = calc_pi(10)\n",
    "pin = 3.0418\n",
    "```\n",
    "Write the code for your function in the box below."
   ]
  },
  {
   "cell_type": "code",
   "execution_count": 3,
   "metadata": {},
   "outputs": [
    {
     "name": "stdout",
     "output_type": "stream",
     "text": [
      "\n",
      "ans =\n",
      "\n",
      "     2     3     4     5     6     7     8     9    10    11\n",
      "\n"
     ]
    }
   ],
   "source": [
    "n_list = 1:10;\n",
    "n_list+1"
   ]
  },
  {
   "cell_type": "code",
   "execution_count": 4,
   "metadata": {},
   "outputs": [
    {
     "name": "stdout",
     "output_type": "stream",
     "text": [
      "Created file '/Users/rzhu/Documents/PhD/Computational_Lab/practice quiz/calc_pi.m'.\n"
     ]
    }
   ],
   "source": [
    "%%file calc_pi.m\n",
    "function pin = calc_pi(n)\n",
    "    n_list = 1:n;\n",
    "    sum_list = 4*(-1).^(n_list+1)./(2.*n_list-1);\n",
    "    pin = sum(sum_list);\n",
    "end"
   ]
  },
  {
   "cell_type": "code",
   "execution_count": 6,
   "metadata": {},
   "outputs": [
    {
     "name": "stdout",
     "output_type": "stream",
     "text": [
      "\n",
      "ans =\n",
      "\n",
      "     4\n",
      "\n",
      "\n",
      "ans =\n",
      "\n",
      "    3.0418\n",
      "\n"
     ]
    }
   ],
   "source": [
    "calc_pi(1)\n",
    "calc_pi(10)"
   ]
  },
  {
   "cell_type": "markdown",
   "metadata": {},
   "source": [
    "## Q5"
   ]
  },
  {
   "cell_type": "markdown",
   "metadata": {},
   "source": [
    "Write a MATLAB program that uses your function to estimate π for values of n terms between 1 and 100. Plot your results and attach the plot as a jpeg or png."
   ]
  },
  {
   "cell_type": "code",
   "execution_count": 12,
   "metadata": {},
   "outputs": [
    {
     "data": {
      "image/png": "[encoded data removed]",
      "text/plain": [
       "<IPython.core.display.Image object>"
      ]
     },
     "metadata": {},
     "output_type": "display_data"
    }
   ],
   "source": [
    "results = zeros(100);\n",
    "for i = 1:100\n",
    "    results(i) = calc_pi(i);\n",
    "end\n",
    "\n",
    "plot(1:100, results)\n",
    "ylim([2, 4])\n",
    "xlabel('Terms used')\n",
    "ylabel('$$\\pi_{approx}$$', 'interpreter', 'latex')"
   ]
  },
  {
   "cell_type": "code",
   "execution_count": null,
   "metadata": {},
   "outputs": [],
   "source": []
  }
 ],
 "metadata": {
  "kernelspec": {
   "display_name": "Matlab",
   "language": "matlab",
   "name": "matlab"
  },
  "language_info": {
   "codemirror_mode": "octave",
   "file_extension": ".m",
   "help_links": [
    {
     "text": "MetaKernel Magics",
     "url": "https://metakernel.readthedocs.io/en/latest/source/README.html"
    }
   ],
   "mimetype": "text/x-octave",
   "name": "matlab",
   "version": "0.16.7"
  }
 },
 "nbformat": 4,
 "nbformat_minor": 2
}
